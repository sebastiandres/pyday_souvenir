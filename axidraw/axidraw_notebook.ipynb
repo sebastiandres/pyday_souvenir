{
 "cells": [
  {
   "cell_type": "markdown",
   "id": "11965493",
   "metadata": {},
   "source": [
    "# AxiDraw Python API"
   ]
  },
  {
   "cell_type": "code",
   "execution_count": 3,
   "id": "457e5b4d",
   "metadata": {},
   "outputs": [
    {
     "data": {
      "text/plain": [
       "True"
      ]
     },
     "execution_count": 3,
     "metadata": {},
     "output_type": "execute_result"
    }
   ],
   "source": [
    "from pyaxidraw import axidraw\n",
    "ad = axidraw.AxiDraw()\n",
    "ad.interactive()\n",
    "ad.connect()"
   ]
  },
  {
   "cell_type": "code",
   "execution_count": 6,
   "id": "2fa3ddc1",
   "metadata": {},
   "outputs": [],
   "source": [
    "ad.penup()"
   ]
  },
  {
   "cell_type": "code",
   "execution_count": 5,
   "id": "3167fe5c",
   "metadata": {},
   "outputs": [],
   "source": [
    "ad.pendown()"
   ]
  },
  {
   "cell_type": "markdown",
   "id": "98e18db2",
   "metadata": {},
   "source": [
    "## Dibujando un svg"
   ]
  },
  {
   "cell_type": "code",
   "execution_count": 19,
   "id": "7b3e01d8",
   "metadata": {},
   "outputs": [],
   "source": [
    "from pyaxidraw import axidraw\n",
    "ad = axidraw.AxiDraw()"
   ]
  },
  {
   "cell_type": "code",
   "execution_count": 21,
   "id": "6a6eed6c",
   "metadata": {},
   "outputs": [],
   "source": [
    "ad.plot_setup(\"finn.svg\")"
   ]
  },
  {
   "cell_type": "code",
   "execution_count": 22,
   "id": "ff776de1",
   "metadata": {},
   "outputs": [],
   "source": [
    "ad.plot_run()"
   ]
  },
  {
   "cell_type": "markdown",
   "id": "6b7c8348",
   "metadata": {},
   "source": [
    "## Interactive mode"
   ]
  },
  {
   "cell_type": "code",
   "execution_count": 23,
   "id": "2179796b",
   "metadata": {},
   "outputs": [],
   "source": [
    "from pyaxidraw import axidraw"
   ]
  },
  {
   "cell_type": "code",
   "execution_count": 24,
   "id": "cbb2d350",
   "metadata": {
    "scrolled": true
   },
   "outputs": [
    {
     "data": {
      "text/plain": [
       "True"
      ]
     },
     "execution_count": 24,
     "metadata": {},
     "output_type": "execute_result"
    }
   ],
   "source": [
    "ad = axidraw.AxiDraw()\n",
    "ad.interactive()\n",
    "ad.connect()"
   ]
  },
  {
   "cell_type": "markdown",
   "id": "88b47b41",
   "metadata": {},
   "source": [
    "Moving the pen up and down:"
   ]
  },
  {
   "cell_type": "code",
   "execution_count": 2,
   "id": "4d455880",
   "metadata": {},
   "outputs": [],
   "source": [
    "ad.pendown()"
   ]
  },
  {
   "cell_type": "code",
   "execution_count": 26,
   "id": "0d4ac03b",
   "metadata": {},
   "outputs": [],
   "source": [
    "ad.penup()"
   ]
  },
  {
   "cell_type": "markdown",
   "id": "b3ac0f9c",
   "metadata": {},
   "source": [
    "By default, the AxiDraw uses inches as units for interactive commands that specify distances. You can change this with the `.options.units` attribute. Setting to `2` will use millimeters instead. (See the [full list of units](https://axidraw.com/doc/py_api/#units).)"
   ]
  },
  {
   "cell_type": "code",
   "execution_count": 27,
   "id": "a6b94c1f",
   "metadata": {},
   "outputs": [],
   "source": [
    "ad.options.units = 2 # millimeters"
   ]
  },
  {
   "cell_type": "markdown",
   "id": "e669ad25",
   "metadata": {},
   "source": [
    "You can move the pen with the `.goto()` method, which takes two parameters: the X and the Y position to move to. For example, the following code lifts the pen, moves to a random position, puts the pen down, and then moves to another random position, and repeats this five times:"
   ]
  },
  {
   "cell_type": "code",
   "execution_count": 28,
   "id": "0b4413a5",
   "metadata": {},
   "outputs": [],
   "source": [
    "import random\n",
    "for i in range(5):\n",
    "    ad.penup()\n",
    "    ad.goto(random.randrange(0, 150), random.randrange(0, 150))\n",
    "    ad.pendown()\n",
    "    ad.goto(random.randrange(0, 150), random.randrange(0, 150))\n",
    "ad.penup()"
   ]
  },
  {
   "cell_type": "markdown",
   "id": "8220956b",
   "metadata": {},
   "source": [
    "To return the pen to $(0, 0)$:"
   ]
  },
  {
   "cell_type": "code",
   "execution_count": 29,
   "id": "3ff1ecb0",
   "metadata": {},
   "outputs": [],
   "source": [
    "ad.goto(0, 0)"
   ]
  },
  {
   "cell_type": "markdown",
   "id": "080e6960",
   "metadata": {},
   "source": [
    "The `.moveto()` and `.lineto()` methods guarantee that the pen is in a particular position while moving. The `.moveto()` always lifts the pen before moving; the `.lineto()` method always lowers the pen before moving. For example, this code draws five lines from the center of the page to random places on the page. (Assuming you're using a 150mm$\\times$150mm page.)"
   ]
  },
  {
   "cell_type": "code",
   "execution_count": 30,
   "id": "e25702ec",
   "metadata": {},
   "outputs": [],
   "source": [
    "for i in range(5):\n",
    "    ad.moveto(75, 75)\n",
    "    ad.lineto(random.randrange(0, 150), random.randrange(0, 150))\n",
    "ad.penup()\n",
    "ad.moveto(0, 0)"
   ]
  },
  {
   "cell_type": "markdown",
   "id": "369c6709",
   "metadata": {},
   "source": [
    "Axidraw tiene un método optimizado para dibujar a partir de puntos."
   ]
  },
  {
   "cell_type": "code",
   "execution_count": 31,
   "id": "57cf0f16",
   "metadata": {},
   "outputs": [],
   "source": [
    "curve_pts = [(0,0), (0, 100), (50, 50)]\n",
    "ad.draw_path(curve_pts)"
   ]
  },
  {
   "cell_type": "code",
   "execution_count": 41,
   "id": "62757111",
   "metadata": {},
   "outputs": [],
   "source": [
    "ad.moveto(0,0)"
   ]
  },
  {
   "cell_type": "markdown",
   "id": "7d225dc7",
   "metadata": {},
   "source": [
    "## ¿Y, que hacemos?"
   ]
  },
  {
   "cell_type": "code",
   "execution_count": 18,
   "id": "0a857298",
   "metadata": {},
   "outputs": [],
   "source": [
    "ad = axidraw.AxiDraw()\n",
    "ad.interactive()\n",
    "ad.connect()\n",
    "ad.options.units = 2 # millimeters\n",
    "curve_pts = [(0,0), (0, 100), (50, 50)]\n",
    "#ad.pendown()\n",
    "#ad.penup()\n",
    "ad.draw_path(curve_pts)"
   ]
  },
  {
   "cell_type": "code",
   "execution_count": 40,
   "id": "fd2c876f",
   "metadata": {},
   "outputs": [],
   "source": [
    "import numpy as np\n",
    "def poligono(r, n, x0, y0):\n",
    "    angulos = np.arange(0, n) * 2*np.pi/n\n",
    "    x = x0 + r*np.cos(angulos)\n",
    "    y = y0 + r*np.sin(angulos)\n",
    "    puntos = [(xi, yi) for xi, yi in zip(x,y)]\n",
    "    return puntos + puntos[:1]\n",
    "\n",
    "puntos_1 = poligono(40, 4, 100, 100)\n",
    "puntos_2 = poligono(30, 8, 100, 100)\n",
    "\n",
    "\n",
    "#ad.moveto(0, 0)\n",
    "ad.draw_path(puntos_1)\n",
    "#ad.moveto(0, 0)\n",
    "ad.draw_path(puntos_2)    "
   ]
  },
  {
   "cell_type": "code",
   "execution_count": 38,
   "id": "d1cf40a5",
   "metadata": {},
   "outputs": [],
   "source": [
    "ad.draw_path(puntos)"
   ]
  },
  {
   "cell_type": "code",
   "execution_count": null,
   "id": "cb9f92f3",
   "metadata": {},
   "outputs": [],
   "source": []
  }
 ],
 "metadata": {
  "kernelspec": {
   "display_name": "Python 3 (ipykernel)",
   "language": "python",
   "name": "python3"
  },
  "language_info": {
   "codemirror_mode": {
    "name": "ipython",
    "version": 3
   },
   "file_extension": ".py",
   "mimetype": "text/x-python",
   "name": "python",
   "nbconvert_exporter": "python",
   "pygments_lexer": "ipython3",
   "version": "3.11.1"
  }
 },
 "nbformat": 4,
 "nbformat_minor": 5
}
